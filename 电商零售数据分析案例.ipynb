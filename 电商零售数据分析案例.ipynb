{
 "cells": [
  {
   "cell_type": "markdown",
   "id": "2393ec0e",
   "metadata": {},
   "source": [
    "# 1.分析目的：\n",
    "完成用户分类（RFM 模型），即对比分析不同用户群体在时间、地区等维度下交易量，交易金额指标，并根据分析结果提出优化建议。"
   ]
  },
  {
   "cell_type": "code",
   "execution_count": 62,
   "id": "ed537174",
   "metadata": {},
   "outputs": [],
   "source": [
    "import pandas as pd\n",
    "import numpy as np\n",
    "import matplotlib.pyplot as plt\n",
    "import seaborn as sns\n",
    "from pyecharts.charts import Pie\n",
    "import pyecharts.options as opts\n"
   ]
  },
  {
   "cell_type": "code",
   "execution_count": 63,
   "id": "c2864d91",
   "metadata": {},
   "outputs": [],
   "source": [
    "plt.rcParams['font.sans-serif'] = ['SimHei']\n",
    "plt.rcParams['axes.unicode_minus'] = False"
   ]
  },
  {
   "cell_type": "markdown",
   "id": "8e90e1a6",
   "metadata": {},
   "source": [
    "# 2.读取数据"
   ]
  },
  {
   "cell_type": "code",
   "execution_count": 64,
   "id": "8fa1c342",
   "metadata": {},
   "outputs": [],
   "source": [
    "df = pd.read_csv(\"data.csv\",encoding='utf-8')"
   ]
  },
  {
   "cell_type": "code",
   "execution_count": 65,
   "id": "61fbf222",
   "metadata": {},
   "outputs": [
    {
     "data": {
      "text/html": [
       "<div>\n",
       "<style scoped>\n",
       "    .dataframe tbody tr th:only-of-type {\n",
       "        vertical-align: middle;\n",
       "    }\n",
       "\n",
       "    .dataframe tbody tr th {\n",
       "        vertical-align: top;\n",
       "    }\n",
       "\n",
       "    .dataframe thead th {\n",
       "        text-align: right;\n",
       "    }\n",
       "</style>\n",
       "<table border=\"1\" class=\"dataframe\">\n",
       "  <thead>\n",
       "    <tr style=\"text-align: right;\">\n",
       "      <th></th>\n",
       "      <th>InvoiceNo</th>\n",
       "      <th>StockCode</th>\n",
       "      <th>Description</th>\n",
       "      <th>Quantity</th>\n",
       "      <th>InvoiceDate</th>\n",
       "      <th>UnitPrice</th>\n",
       "      <th>CustomerID</th>\n",
       "      <th>Country</th>\n",
       "    </tr>\n",
       "  </thead>\n",
       "  <tbody>\n",
       "    <tr>\n",
       "      <th>0</th>\n",
       "      <td>536365</td>\n",
       "      <td>85123A</td>\n",
       "      <td>WHITE HANGING HEART T-LIGHT HOLDER</td>\n",
       "      <td>6</td>\n",
       "      <td>12/1/2010 8:26</td>\n",
       "      <td>2.55</td>\n",
       "      <td>17850.0</td>\n",
       "      <td>United Kingdom</td>\n",
       "    </tr>\n",
       "    <tr>\n",
       "      <th>1</th>\n",
       "      <td>536365</td>\n",
       "      <td>71053</td>\n",
       "      <td>WHITE METAL LANTERN</td>\n",
       "      <td>6</td>\n",
       "      <td>12/1/2010 8:26</td>\n",
       "      <td>3.39</td>\n",
       "      <td>17850.0</td>\n",
       "      <td>United Kingdom</td>\n",
       "    </tr>\n",
       "    <tr>\n",
       "      <th>2</th>\n",
       "      <td>536365</td>\n",
       "      <td>84406B</td>\n",
       "      <td>CREAM CUPID HEARTS COAT HANGER</td>\n",
       "      <td>8</td>\n",
       "      <td>12/1/2010 8:26</td>\n",
       "      <td>2.75</td>\n",
       "      <td>17850.0</td>\n",
       "      <td>United Kingdom</td>\n",
       "    </tr>\n",
       "    <tr>\n",
       "      <th>3</th>\n",
       "      <td>536365</td>\n",
       "      <td>84029G</td>\n",
       "      <td>KNITTED UNION FLAG HOT WATER BOTTLE</td>\n",
       "      <td>6</td>\n",
       "      <td>12/1/2010 8:26</td>\n",
       "      <td>3.39</td>\n",
       "      <td>17850.0</td>\n",
       "      <td>United Kingdom</td>\n",
       "    </tr>\n",
       "    <tr>\n",
       "      <th>4</th>\n",
       "      <td>536365</td>\n",
       "      <td>84029E</td>\n",
       "      <td>RED WOOLLY HOTTIE WHITE HEART.</td>\n",
       "      <td>6</td>\n",
       "      <td>12/1/2010 8:26</td>\n",
       "      <td>3.39</td>\n",
       "      <td>17850.0</td>\n",
       "      <td>United Kingdom</td>\n",
       "    </tr>\n",
       "  </tbody>\n",
       "</table>\n",
       "</div>"
      ],
      "text/plain": [
       "  InvoiceNo StockCode                          Description  Quantity  \\\n",
       "0    536365    85123A   WHITE HANGING HEART T-LIGHT HOLDER         6   \n",
       "1    536365     71053                  WHITE METAL LANTERN         6   \n",
       "2    536365    84406B       CREAM CUPID HEARTS COAT HANGER         8   \n",
       "3    536365    84029G  KNITTED UNION FLAG HOT WATER BOTTLE         6   \n",
       "4    536365    84029E       RED WOOLLY HOTTIE WHITE HEART.         6   \n",
       "\n",
       "      InvoiceDate  UnitPrice  CustomerID         Country  \n",
       "0  12/1/2010 8:26       2.55     17850.0  United Kingdom  \n",
       "1  12/1/2010 8:26       3.39     17850.0  United Kingdom  \n",
       "2  12/1/2010 8:26       2.75     17850.0  United Kingdom  \n",
       "3  12/1/2010 8:26       3.39     17850.0  United Kingdom  \n",
       "4  12/1/2010 8:26       3.39     17850.0  United Kingdom  "
      ]
     },
     "execution_count": 65,
     "metadata": {},
     "output_type": "execute_result"
    }
   ],
   "source": [
    "df.head()"
   ]
  },
  {
   "cell_type": "markdown",
   "id": "62f6f47f",
   "metadata": {},
   "source": [
    "# 3.数据维度"
   ]
  },
  {
   "cell_type": "code",
   "execution_count": 66,
   "id": "8922540f",
   "metadata": {},
   "outputs": [
    {
     "data": {
      "text/plain": [
       "(541909, 8)"
      ]
     },
     "execution_count": 66,
     "metadata": {},
     "output_type": "execute_result"
    }
   ],
   "source": [
    "df.shape"
   ]
  },
  {
   "cell_type": "markdown",
   "id": "75d17707",
   "metadata": {},
   "source": [
    "# 4.数据信息"
   ]
  },
  {
   "cell_type": "code",
   "execution_count": 67,
   "id": "622b0d22",
   "metadata": {},
   "outputs": [
    {
     "name": "stdout",
     "output_type": "stream",
     "text": [
      "<class 'pandas.core.frame.DataFrame'>\n",
      "RangeIndex: 541909 entries, 0 to 541908\n",
      "Data columns (total 8 columns):\n",
      " #   Column       Non-Null Count   Dtype  \n",
      "---  ------       --------------   -----  \n",
      " 0   InvoiceNo    541909 non-null  object \n",
      " 1   StockCode    541909 non-null  object \n",
      " 2   Description  540455 non-null  object \n",
      " 3   Quantity     541909 non-null  int64  \n",
      " 4   InvoiceDate  541909 non-null  object \n",
      " 5   UnitPrice    541909 non-null  float64\n",
      " 6   CustomerID   406829 non-null  float64\n",
      " 7   Country      541909 non-null  object \n",
      "dtypes: float64(2), int64(1), object(5)\n",
      "memory usage: 33.1+ MB\n"
     ]
    }
   ],
   "source": [
    "df.info()"
   ]
  },
  {
   "cell_type": "markdown",
   "id": "48c06d0c",
   "metadata": {},
   "source": [
    "# 5.数据清洗"
   ]
  },
  {
   "cell_type": "markdown",
   "id": "0b5a30e3",
   "metadata": {},
   "source": [
    "## 5.1缺失处理"
   ]
  },
  {
   "cell_type": "code",
   "execution_count": 68,
   "id": "ae95659d",
   "metadata": {},
   "outputs": [
    {
     "data": {
      "text/plain": [
       "InvoiceNo      0.000000\n",
       "StockCode      0.000000\n",
       "Description    0.002683\n",
       "Quantity       0.000000\n",
       "InvoiceDate    0.000000\n",
       "UnitPrice      0.000000\n",
       "CustomerID     0.249267\n",
       "Country        0.000000\n",
       "dtype: float64"
      ]
     },
     "execution_count": 68,
     "metadata": {},
     "output_type": "execute_result"
    }
   ],
   "source": [
    "# 统计缺失率\n",
    "df.apply(lambda x: sum(x.isnull()) / len(x), axis=0)"
   ]
  },
  {
   "cell_type": "code",
   "execution_count": 69,
   "id": "645063a9",
   "metadata": {
    "pycharm": {
     "name": "#%%\n"
    }
   },
   "outputs": [],
   "source": [
    "# Description字段对该数据分析目标无意义，删除\n",
    "df.drop(['Description'], axis=1, inplace=True)"
   ]
  },
  {
   "cell_type": "code",
   "execution_count": 70,
   "id": "b7ff884f",
   "metadata": {
    "pycharm": {
     "name": "#%%\n"
    }
   },
   "outputs": [],
   "source": [
    "# 缺失的用户ID填充为'U'\n",
    "df['CustomerID'] = df['CustomerID'].fillna('U')"
   ]
  },
  {
   "cell_type": "code",
   "execution_count": 71,
   "id": "5aadd99a",
   "metadata": {
    "pycharm": {
     "name": "#%%\n"
    }
   },
   "outputs": [],
   "source": [
    "# 每个订单的发生额\n",
    "df['amount'] = df['Quantity'] * df['UnitPrice']"
   ]
  },
  {
   "cell_type": "code",
   "execution_count": 72,
   "id": "91376d41",
   "metadata": {
    "pycharm": {
     "name": "#%%\n"
    }
   },
   "outputs": [],
   "source": [
    "# 将 InvoiceDate字段拆分成两列，之后删除InvoiceDate字段\n",
    "df['Date'] = pd.to_datetime(df['InvoiceDate']).dt.date\n",
    "df['Time'] = pd.to_datetime(df['InvoiceDate']).dt.time\n",
    "df['Date'] = pd.to_datetime(df['Date'])\n",
    "df.drop(['InvoiceDate'], axis=1, inplace=True)"
   ]
  },
  {
   "cell_type": "code",
   "execution_count": 73,
   "id": "13171bfc",
   "metadata": {},
   "outputs": [
    {
     "data": {
      "text/html": [
       "<div>\n",
       "<style scoped>\n",
       "    .dataframe tbody tr th:only-of-type {\n",
       "        vertical-align: middle;\n",
       "    }\n",
       "\n",
       "    .dataframe tbody tr th {\n",
       "        vertical-align: top;\n",
       "    }\n",
       "\n",
       "    .dataframe thead th {\n",
       "        text-align: right;\n",
       "    }\n",
       "</style>\n",
       "<table border=\"1\" class=\"dataframe\">\n",
       "  <thead>\n",
       "    <tr style=\"text-align: right;\">\n",
       "      <th></th>\n",
       "      <th>InvoiceNo</th>\n",
       "      <th>StockCode</th>\n",
       "      <th>Quantity</th>\n",
       "      <th>UnitPrice</th>\n",
       "      <th>CustomerID</th>\n",
       "      <th>Country</th>\n",
       "      <th>amount</th>\n",
       "      <th>Date</th>\n",
       "      <th>Time</th>\n",
       "    </tr>\n",
       "  </thead>\n",
       "  <tbody>\n",
       "    <tr>\n",
       "      <th>0</th>\n",
       "      <td>536365</td>\n",
       "      <td>85123A</td>\n",
       "      <td>6</td>\n",
       "      <td>2.55</td>\n",
       "      <td>17850.0</td>\n",
       "      <td>United Kingdom</td>\n",
       "      <td>15.30</td>\n",
       "      <td>2010-12-01</td>\n",
       "      <td>08:26:00</td>\n",
       "    </tr>\n",
       "    <tr>\n",
       "      <th>1</th>\n",
       "      <td>536365</td>\n",
       "      <td>71053</td>\n",
       "      <td>6</td>\n",
       "      <td>3.39</td>\n",
       "      <td>17850.0</td>\n",
       "      <td>United Kingdom</td>\n",
       "      <td>20.34</td>\n",
       "      <td>2010-12-01</td>\n",
       "      <td>08:26:00</td>\n",
       "    </tr>\n",
       "    <tr>\n",
       "      <th>2</th>\n",
       "      <td>536365</td>\n",
       "      <td>84406B</td>\n",
       "      <td>8</td>\n",
       "      <td>2.75</td>\n",
       "      <td>17850.0</td>\n",
       "      <td>United Kingdom</td>\n",
       "      <td>22.00</td>\n",
       "      <td>2010-12-01</td>\n",
       "      <td>08:26:00</td>\n",
       "    </tr>\n",
       "    <tr>\n",
       "      <th>3</th>\n",
       "      <td>536365</td>\n",
       "      <td>84029G</td>\n",
       "      <td>6</td>\n",
       "      <td>3.39</td>\n",
       "      <td>17850.0</td>\n",
       "      <td>United Kingdom</td>\n",
       "      <td>20.34</td>\n",
       "      <td>2010-12-01</td>\n",
       "      <td>08:26:00</td>\n",
       "    </tr>\n",
       "    <tr>\n",
       "      <th>4</th>\n",
       "      <td>536365</td>\n",
       "      <td>84029E</td>\n",
       "      <td>6</td>\n",
       "      <td>3.39</td>\n",
       "      <td>17850.0</td>\n",
       "      <td>United Kingdom</td>\n",
       "      <td>20.34</td>\n",
       "      <td>2010-12-01</td>\n",
       "      <td>08:26:00</td>\n",
       "    </tr>\n",
       "  </tbody>\n",
       "</table>\n",
       "</div>"
      ],
      "text/plain": [
       "  InvoiceNo StockCode  Quantity  UnitPrice CustomerID         Country  amount  \\\n",
       "0    536365    85123A         6       2.55    17850.0  United Kingdom   15.30   \n",
       "1    536365     71053         6       3.39    17850.0  United Kingdom   20.34   \n",
       "2    536365    84406B         8       2.75    17850.0  United Kingdom   22.00   \n",
       "3    536365    84029G         6       3.39    17850.0  United Kingdom   20.34   \n",
       "4    536365    84029E         6       3.39    17850.0  United Kingdom   20.34   \n",
       "\n",
       "        Date      Time  \n",
       "0 2010-12-01  08:26:00  \n",
       "1 2010-12-01  08:26:00  \n",
       "2 2010-12-01  08:26:00  \n",
       "3 2010-12-01  08:26:00  \n",
       "4 2010-12-01  08:26:00  "
      ]
     },
     "execution_count": 73,
     "metadata": {},
     "output_type": "execute_result"
    }
   ],
   "source": [
    "df.head()"
   ]
  },
  {
   "cell_type": "markdown",
   "id": "2538796b",
   "metadata": {},
   "source": [
    "# 6.重复值"
   ]
  },
  {
   "cell_type": "code",
   "execution_count": 74,
   "id": "6a38e5f8",
   "metadata": {},
   "outputs": [
    {
     "data": {
      "text/html": [
       "<div>\n",
       "<style scoped>\n",
       "    .dataframe tbody tr th:only-of-type {\n",
       "        vertical-align: middle;\n",
       "    }\n",
       "\n",
       "    .dataframe tbody tr th {\n",
       "        vertical-align: top;\n",
       "    }\n",
       "\n",
       "    .dataframe thead th {\n",
       "        text-align: right;\n",
       "    }\n",
       "</style>\n",
       "<table border=\"1\" class=\"dataframe\">\n",
       "  <thead>\n",
       "    <tr style=\"text-align: right;\">\n",
       "      <th></th>\n",
       "      <th>Quantity</th>\n",
       "      <th>UnitPrice</th>\n",
       "      <th>amount</th>\n",
       "    </tr>\n",
       "  </thead>\n",
       "  <tbody>\n",
       "    <tr>\n",
       "      <th>count</th>\n",
       "      <td>541909.000000</td>\n",
       "      <td>541909.000000</td>\n",
       "      <td>541909.000000</td>\n",
       "    </tr>\n",
       "    <tr>\n",
       "      <th>mean</th>\n",
       "      <td>9.552250</td>\n",
       "      <td>4.611114</td>\n",
       "      <td>17.987795</td>\n",
       "    </tr>\n",
       "    <tr>\n",
       "      <th>std</th>\n",
       "      <td>218.081158</td>\n",
       "      <td>96.759853</td>\n",
       "      <td>378.810824</td>\n",
       "    </tr>\n",
       "    <tr>\n",
       "      <th>min</th>\n",
       "      <td>-80995.000000</td>\n",
       "      <td>-11062.060000</td>\n",
       "      <td>-168469.600000</td>\n",
       "    </tr>\n",
       "    <tr>\n",
       "      <th>25%</th>\n",
       "      <td>1.000000</td>\n",
       "      <td>1.250000</td>\n",
       "      <td>3.400000</td>\n",
       "    </tr>\n",
       "    <tr>\n",
       "      <th>50%</th>\n",
       "      <td>3.000000</td>\n",
       "      <td>2.080000</td>\n",
       "      <td>9.750000</td>\n",
       "    </tr>\n",
       "    <tr>\n",
       "      <th>75%</th>\n",
       "      <td>10.000000</td>\n",
       "      <td>4.130000</td>\n",
       "      <td>17.400000</td>\n",
       "    </tr>\n",
       "    <tr>\n",
       "      <th>max</th>\n",
       "      <td>80995.000000</td>\n",
       "      <td>38970.000000</td>\n",
       "      <td>168469.600000</td>\n",
       "    </tr>\n",
       "  </tbody>\n",
       "</table>\n",
       "</div>"
      ],
      "text/plain": [
       "            Quantity      UnitPrice         amount\n",
       "count  541909.000000  541909.000000  541909.000000\n",
       "mean        9.552250       4.611114      17.987795\n",
       "std       218.081158      96.759853     378.810824\n",
       "min    -80995.000000  -11062.060000 -168469.600000\n",
       "25%         1.000000       1.250000       3.400000\n",
       "50%         3.000000       2.080000       9.750000\n",
       "75%        10.000000       4.130000      17.400000\n",
       "max     80995.000000   38970.000000  168469.600000"
      ]
     },
     "execution_count": 74,
     "metadata": {},
     "output_type": "execute_result"
    }
   ],
   "source": [
    "df.describe()"
   ]
  },
  {
   "cell_type": "code",
   "execution_count": 76,
   "id": "12f380a6",
   "metadata": {},
   "outputs": [],
   "source": [
    "# 删除重复值\n",
    "df = df.drop_duplicates()"
   ]
  },
  {
   "cell_type": "markdown",
   "id": "41c332c4",
   "metadata": {},
   "source": [
    "# 7.异常分析"
   ]
  },
  {
   "cell_type": "markdown",
   "id": "9a311aab",
   "metadata": {},
   "source": [
    "## 7.1缺失处理"
   ]
  },
  {
   "cell_type": "code",
   "execution_count": 77,
   "id": "49e63e03",
   "metadata": {},
   "outputs": [],
   "source": [
    "# 对单价进行异常分析\n",
    "df2 = df.loc[df['UnitPrice'] <= 0]"
   ]
  },
  {
   "cell_type": "code",
   "execution_count": 78,
   "id": "bbd135c3",
   "metadata": {},
   "outputs": [
    {
     "data": {
      "text/plain": [
       "0.0046809866595607106"
      ]
     },
     "execution_count": 78,
     "metadata": {},
     "output_type": "execute_result"
    }
   ],
   "source": [
    "df2.shape[0]/df.shape[0]"
   ]
  },
  {
   "cell_type": "code",
   "execution_count": 79,
   "id": "f58b15ba",
   "metadata": {},
   "outputs": [
    {
     "data": {
      "text/plain": [
       " 0.00        2510\n",
       "-11062.06       2\n",
       "Name: UnitPrice, dtype: int64"
      ]
     },
     "execution_count": 79,
     "metadata": {},
     "output_type": "execute_result"
    }
   ],
   "source": [
    "# 异常值中单价的分类\n",
    "df2['UnitPrice'].value_counts()"
   ]
  },
  {
   "cell_type": "markdown",
   "id": "cbbc81a4",
   "metadata": {},
   "source": [
    "# 8.数据分析与可视化"
   ]
  },
  {
   "cell_type": "markdown",
   "id": "468f9f8f",
   "metadata": {},
   "source": [
    "## 8.1退货率"
   ]
  },
  {
   "cell_type": "code",
   "execution_count": 80,
   "id": "14a51531",
   "metadata": {},
   "outputs": [],
   "source": [
    "df1 = df.loc[df['Quantity'] <= 0]"
   ]
  },
  {
   "cell_type": "code",
   "execution_count": 81,
   "id": "89f7d9fa",
   "metadata": {},
   "outputs": [
    {
     "data": {
      "text/html": [
       "<div>\n",
       "<style scoped>\n",
       "    .dataframe tbody tr th:only-of-type {\n",
       "        vertical-align: middle;\n",
       "    }\n",
       "\n",
       "    .dataframe tbody tr th {\n",
       "        vertical-align: top;\n",
       "    }\n",
       "\n",
       "    .dataframe thead th {\n",
       "        text-align: right;\n",
       "    }\n",
       "</style>\n",
       "<table border=\"1\" class=\"dataframe\">\n",
       "  <thead>\n",
       "    <tr style=\"text-align: right;\">\n",
       "      <th>Date</th>\n",
       "      <th>1</th>\n",
       "      <th>2</th>\n",
       "      <th>3</th>\n",
       "      <th>4</th>\n",
       "      <th>5</th>\n",
       "      <th>6</th>\n",
       "      <th>7</th>\n",
       "      <th>8</th>\n",
       "      <th>9</th>\n",
       "      <th>10</th>\n",
       "      <th>11</th>\n",
       "      <th>12</th>\n",
       "    </tr>\n",
       "    <tr>\n",
       "      <th>Date</th>\n",
       "      <th></th>\n",
       "      <th></th>\n",
       "      <th></th>\n",
       "      <th></th>\n",
       "      <th></th>\n",
       "      <th></th>\n",
       "      <th></th>\n",
       "      <th></th>\n",
       "      <th></th>\n",
       "      <th></th>\n",
       "      <th></th>\n",
       "      <th></th>\n",
       "    </tr>\n",
       "  </thead>\n",
       "  <tbody>\n",
       "    <tr>\n",
       "      <th>2010</th>\n",
       "      <td>NaN</td>\n",
       "      <td>NaN</td>\n",
       "      <td>NaN</td>\n",
       "      <td>NaN</td>\n",
       "      <td>NaN</td>\n",
       "      <td>NaN</td>\n",
       "      <td>NaN</td>\n",
       "      <td>NaN</td>\n",
       "      <td>NaN</td>\n",
       "      <td>NaN</td>\n",
       "      <td>NaN</td>\n",
       "      <td>-74729.12</td>\n",
       "    </tr>\n",
       "    <tr>\n",
       "      <th>2011</th>\n",
       "      <td>-131363.05</td>\n",
       "      <td>-25519.15</td>\n",
       "      <td>-34201.28</td>\n",
       "      <td>-44600.65</td>\n",
       "      <td>-47202.51</td>\n",
       "      <td>-70569.78</td>\n",
       "      <td>-37919.13</td>\n",
       "      <td>-54330.8</td>\n",
       "      <td>-38838.51</td>\n",
       "      <td>-81895.5</td>\n",
       "      <td>-47720.98</td>\n",
       "      <td>-205089.27</td>\n",
       "    </tr>\n",
       "  </tbody>\n",
       "</table>\n",
       "</div>"
      ],
      "text/plain": [
       "Date         1         2         3         4         5         6         7   \\\n",
       "Date                                                                          \n",
       "2010        NaN       NaN       NaN       NaN       NaN       NaN       NaN   \n",
       "2011 -131363.05 -25519.15 -34201.28 -44600.65 -47202.51 -70569.78 -37919.13   \n",
       "\n",
       "Date       8         9        10        11         12  \n",
       "Date                                                   \n",
       "2010      NaN       NaN      NaN       NaN  -74729.12  \n",
       "2011 -54330.8 -38838.51 -81895.5 -47720.98 -205089.27  "
      ]
     },
     "execution_count": 81,
     "metadata": {},
     "output_type": "execute_result"
    }
   ],
   "source": [
    "# 退货情况\n",
    "returns = pd.pivot_table(df1, index=df1['Date'].dt.year, columns=df1['Date'].dt.month, values='amount', aggfunc={'amount':np.sum})\n",
    "returns"
   ]
  },
  {
   "cell_type": "code",
   "execution_count": 82,
   "id": "ca860c1f",
   "metadata": {},
   "outputs": [],
   "source": [
    "# 筛选出销售的正常数据\n",
    "df3 = df[(df['Quantity'] > 0) & (df['UnitPrice'] > 0)]"
   ]
  },
  {
   "cell_type": "code",
   "execution_count": 83,
   "id": "0855ba50",
   "metadata": {},
   "outputs": [
    {
     "data": {
      "text/html": [
       "<div>\n",
       "<style scoped>\n",
       "    .dataframe tbody tr th:only-of-type {\n",
       "        vertical-align: middle;\n",
       "    }\n",
       "\n",
       "    .dataframe tbody tr th {\n",
       "        vertical-align: top;\n",
       "    }\n",
       "\n",
       "    .dataframe thead th {\n",
       "        text-align: right;\n",
       "    }\n",
       "</style>\n",
       "<table border=\"1\" class=\"dataframe\">\n",
       "  <thead>\n",
       "    <tr style=\"text-align: right;\">\n",
       "      <th>Date</th>\n",
       "      <th>1</th>\n",
       "      <th>2</th>\n",
       "      <th>3</th>\n",
       "      <th>4</th>\n",
       "      <th>5</th>\n",
       "      <th>6</th>\n",
       "      <th>7</th>\n",
       "      <th>8</th>\n",
       "      <th>9</th>\n",
       "      <th>10</th>\n",
       "      <th>11</th>\n",
       "      <th>12</th>\n",
       "    </tr>\n",
       "    <tr>\n",
       "      <th>Date</th>\n",
       "      <th></th>\n",
       "      <th></th>\n",
       "      <th></th>\n",
       "      <th></th>\n",
       "      <th></th>\n",
       "      <th></th>\n",
       "      <th></th>\n",
       "      <th></th>\n",
       "      <th></th>\n",
       "      <th></th>\n",
       "      <th></th>\n",
       "      <th></th>\n",
       "    </tr>\n",
       "  </thead>\n",
       "  <tbody>\n",
       "    <tr>\n",
       "      <th>2010</th>\n",
       "      <td>NaN</td>\n",
       "      <td>NaN</td>\n",
       "      <td>NaN</td>\n",
       "      <td>NaN</td>\n",
       "      <td>NaN</td>\n",
       "      <td>NaN</td>\n",
       "      <td>NaN</td>\n",
       "      <td>NaN</td>\n",
       "      <td>NaN</td>\n",
       "      <td>NaN</td>\n",
       "      <td>NaN</td>\n",
       "      <td>821452.73</td>\n",
       "    </tr>\n",
       "    <tr>\n",
       "      <th>2011</th>\n",
       "      <td>689811.61</td>\n",
       "      <td>522545.56</td>\n",
       "      <td>716215.26</td>\n",
       "      <td>536968.491</td>\n",
       "      <td>769281.76</td>\n",
       "      <td>760547.01</td>\n",
       "      <td>718076.121</td>\n",
       "      <td>757841.38</td>\n",
       "      <td>1056435.192</td>\n",
       "      <td>1151263.73</td>\n",
       "      <td>1503329.78</td>\n",
       "      <td>637790.33</td>\n",
       "    </tr>\n",
       "  </tbody>\n",
       "</table>\n",
       "</div>"
      ],
      "text/plain": [
       "Date         1          2          3           4          5          6   \\\n",
       "Date                                                                      \n",
       "2010        NaN        NaN        NaN         NaN        NaN        NaN   \n",
       "2011  689811.61  522545.56  716215.26  536968.491  769281.76  760547.01   \n",
       "\n",
       "Date          7          8            9           10          11         12  \n",
       "Date                                                                         \n",
       "2010         NaN        NaN          NaN         NaN         NaN  821452.73  \n",
       "2011  718076.121  757841.38  1056435.192  1151263.73  1503329.78  637790.33  "
      ]
     },
     "execution_count": 83,
     "metadata": {},
     "output_type": "execute_result"
    }
   ],
   "source": [
    "# 营业额\n",
    "sales = pd.pivot_table(df3, index=df3['Date'].dt.year, columns=df3['Date'].dt.month, values='amount', aggfunc={'amount':np.sum})\n",
    "sales"
   ]
  },
  {
   "cell_type": "markdown",
   "id": "bc51ded8",
   "metadata": {},
   "source": [
    "## 8.1.1 2011年每月退货率"
   ]
  },
  {
   "cell_type": "code",
   "execution_count": 85,
   "id": "ff54a9d2",
   "metadata": {},
   "outputs": [
    {
     "data": {
      "text/html": [
       "<div>\n",
       "<style scoped>\n",
       "    .dataframe tbody tr th:only-of-type {\n",
       "        vertical-align: middle;\n",
       "    }\n",
       "\n",
       "    .dataframe tbody tr th {\n",
       "        vertical-align: top;\n",
       "    }\n",
       "\n",
       "    .dataframe thead th {\n",
       "        text-align: right;\n",
       "    }\n",
       "</style>\n",
       "<table border=\"1\" class=\"dataframe\">\n",
       "  <thead>\n",
       "    <tr style=\"text-align: right;\">\n",
       "      <th>Date</th>\n",
       "      <th>1</th>\n",
       "      <th>2</th>\n",
       "      <th>3</th>\n",
       "      <th>4</th>\n",
       "      <th>5</th>\n",
       "      <th>6</th>\n",
       "      <th>7</th>\n",
       "      <th>8</th>\n",
       "      <th>9</th>\n",
       "      <th>10</th>\n",
       "      <th>11</th>\n",
       "      <th>12</th>\n",
       "    </tr>\n",
       "    <tr>\n",
       "      <th>Date</th>\n",
       "      <th></th>\n",
       "      <th></th>\n",
       "      <th></th>\n",
       "      <th></th>\n",
       "      <th></th>\n",
       "      <th></th>\n",
       "      <th></th>\n",
       "      <th></th>\n",
       "      <th></th>\n",
       "      <th></th>\n",
       "      <th></th>\n",
       "      <th></th>\n",
       "    </tr>\n",
       "  </thead>\n",
       "  <tbody>\n",
       "    <tr>\n",
       "      <th>2010</th>\n",
       "      <td>NaN</td>\n",
       "      <td>NaN</td>\n",
       "      <td>NaN</td>\n",
       "      <td>NaN</td>\n",
       "      <td>NaN</td>\n",
       "      <td>NaN</td>\n",
       "      <td>NaN</td>\n",
       "      <td>NaN</td>\n",
       "      <td>NaN</td>\n",
       "      <td>NaN</td>\n",
       "      <td>NaN</td>\n",
       "      <td>0.090972</td>\n",
       "    </tr>\n",
       "    <tr>\n",
       "      <th>2011</th>\n",
       "      <td>0.190433</td>\n",
       "      <td>0.048836</td>\n",
       "      <td>0.047753</td>\n",
       "      <td>0.08306</td>\n",
       "      <td>0.061359</td>\n",
       "      <td>0.092788</td>\n",
       "      <td>0.052807</td>\n",
       "      <td>0.071692</td>\n",
       "      <td>0.036764</td>\n",
       "      <td>0.071135</td>\n",
       "      <td>0.031744</td>\n",
       "      <td>0.321562</td>\n",
       "    </tr>\n",
       "  </tbody>\n",
       "</table>\n",
       "</div>"
      ],
      "text/plain": [
       "Date        1         2         3        4         5         6         7   \\\n",
       "Date                                                                        \n",
       "2010       NaN       NaN       NaN      NaN       NaN       NaN       NaN   \n",
       "2011  0.190433  0.048836  0.047753  0.08306  0.061359  0.092788  0.052807   \n",
       "\n",
       "Date        8         9         10        11        12  \n",
       "Date                                                    \n",
       "2010       NaN       NaN       NaN       NaN  0.090972  \n",
       "2011  0.071692  0.036764  0.071135  0.031744  0.321562  "
      ]
     },
     "execution_count": 85,
     "metadata": {},
     "output_type": "execute_result"
    }
   ],
   "source": [
    "# 退货率\n",
    "return_rate = np.abs(returns) / sales\n",
    "return_rate"
   ]
  },
  {
   "cell_type": "markdown",
   "id": "0356497c",
   "metadata": {},
   "source": [
    "## 8.1.2 2011年月平均退货率"
   ]
  },
  {
   "cell_type": "code",
   "execution_count": 86,
   "id": "fc8d91c6",
   "metadata": {},
   "outputs": [
    {
     "data": {
      "text/plain": [
       "0.09249438130255831"
      ]
     },
     "execution_count": 86,
     "metadata": {},
     "output_type": "execute_result"
    }
   ],
   "source": [
    "# 平均退货率\n",
    "avg_return = return_rate[1:2].mean(axis=1).values[0]\n",
    "avg_return"
   ]
  },
  {
   "cell_type": "markdown",
   "id": "8c22b41b",
   "metadata": {},
   "source": [
    "## 8.1.3 可视化"
   ]
  },
  {
   "cell_type": "code",
   "execution_count": 87,
   "id": "5375508b",
   "metadata": {},
   "outputs": [],
   "source": [
    "# 取出2011年退货率数据，用于画图\n",
    "return_rate_11 = [round(i, 2) for i in return_rate.values.tolist()[1]]\n",
    "month = return_rate.columns.tolist()"
   ]
  },
  {
   "cell_type": "code",
   "execution_count": 126,
   "id": "66654121",
   "metadata": {},
   "outputs": [
    {
     "data": {
      "image/png": "[encoded data removed]",
      "text/plain": [
       "<Figure size 700x350 with 1 Axes>"
      ]
     },
     "metadata": {},
     "output_type": "display_data"
    }
   ],
   "source": [
    "from matplotlib.ticker import FuncFormatter\n",
    "plt.figure(figsize=(10,5), dpi=70)\n",
    "plt.style.use('fivethirtyeight')\n",
    "plt.plot(month, return_rate_11, 'bo-', lw=2, label='月退货率')\n",
    "plt.title('每月退货率', fontdict={'color':'black', 'fontsize':16}, pad=12)\n",
    "plt.xlabel('月份', fontdict={'color':'black', 'fontsize':14})\n",
    "plt.ylabel('退货率', fontdict={'color':'black', 'fontsize':14})\n",
    "plt.yticks([])\n",
    "plt.xticks(np.arange(1, 13))\n",
    "plt.gca().yaxis.set_major_formatter(FuncFormatter(lambda x, position: '{:.1f}%'.format(x*100)))\n",
    "for i, j in zip(month, return_rate_11):\n",
    "    plt.text(i-0.02, j-0.02, '{:.1f}%'.format(j*100), bbox=dict(facecolor='red', alpha=0.1))\n",
    "plt.axhline(y=avg_return,ls='--', color='r', lw=2, label='平均退货率') \n",
    "plt.annotate('{:.1f}%'.format(round(avg_return, 3)*100), xy=(8, avg_return), xytext=(8.5, avg_return+0.05), arrowprops=dict(facecolor='red', shrink=0.05))\n",
    "plt.grid(b=False)\n",
    "plt.legend(loc='best')\n",
    "plt.show()"
   ]
  },
  {
   "cell_type": "markdown",
   "id": "79e68641",
   "metadata": {},
   "source": [
    "# 8.2 用户分级（RFM模型）"
   ]
  },
  {
   "cell_type": "markdown",
   "id": "f962faa6",
   "metadata": {},
   "source": [
    "## 8.2.1 计算R,F,M"
   ]
  },
  {
   "cell_type": "code",
   "execution_count": 89,
   "id": "ac537fcf",
   "metadata": {},
   "outputs": [
    {
     "data": {
      "text/plain": [
       "CustomerID\n",
       "12346.0   2011-01-18\n",
       "12347.0   2011-12-07\n",
       "12348.0   2011-09-25\n",
       "12349.0   2011-11-21\n",
       "12350.0   2011-02-02\n",
       "Name: Date, dtype: datetime64[ns]"
      ]
     },
     "execution_count": 89,
     "metadata": {},
     "output_type": "execute_result"
    }
   ],
   "source": [
    "# 每位用户最近一次购买时间\n",
    "customer_newest_consume = df3.groupby('CustomerID')['Date'].max()\n",
    "customer_newest_consume.head()"
   ]
  },
  {
   "cell_type": "code",
   "execution_count": 90,
   "id": "4f31cc6f",
   "metadata": {},
   "outputs": [],
   "source": [
    "# 目标时间（最近一次购买时间）\n",
    "newest_time_consume = df3['Date'].max()"
   ]
  },
  {
   "cell_type": "code",
   "execution_count": 91,
   "id": "516ca276",
   "metadata": {},
   "outputs": [
    {
     "data": {
      "text/plain": [
       "CustomerID\n",
       "12346.0    325\n",
       "12347.0      2\n",
       "12348.0     75\n",
       "12349.0     18\n",
       "12350.0    310\n",
       "          ... \n",
       "18281.0    180\n",
       "18282.0      7\n",
       "18283.0      3\n",
       "18287.0     42\n",
       "U            0\n",
       "Name: Date, Length: 4339, dtype: int64"
      ]
     },
     "execution_count": 91,
     "metadata": {},
     "output_type": "execute_result"
    }
   ],
   "source": [
    "# 每位用户最近购买时间于目标时间的距离\n",
    "value_R = (newest_time_consume - customer_newest_consume).dt.days\n",
    "value_R"
   ]
  },
  {
   "cell_type": "code",
   "execution_count": 92,
   "id": "b8ddb696",
   "metadata": {},
   "outputs": [
    {
     "data": {
      "text/plain": [
       "CustomerID\n",
       "12346.0       1\n",
       "12347.0       7\n",
       "12348.0       4\n",
       "12349.0       1\n",
       "12350.0       1\n",
       "           ... \n",
       "18281.0       1\n",
       "18282.0       2\n",
       "18283.0      16\n",
       "18287.0       3\n",
       "U          1428\n",
       "Name: InvoiceNo, Length: 4339, dtype: int64"
      ]
     },
     "execution_count": 92,
     "metadata": {},
     "output_type": "execute_result"
    }
   ],
   "source": [
    "# nunique()去重\n",
    "value_F = df3.groupby('CustomerID')['InvoiceNo'].nunique()\n",
    "value_F"
   ]
  },
  {
   "cell_type": "code",
   "execution_count": 93,
   "id": "5f1f6d89",
   "metadata": {},
   "outputs": [
    {
     "data": {
      "text/plain": [
       "CustomerID\n",
       "12346.0    7.718360e+04\n",
       "12347.0    4.310000e+03\n",
       "12348.0    1.797240e+03\n",
       "12349.0    1.757550e+03\n",
       "12350.0    3.344000e+02\n",
       "               ...     \n",
       "18281.0    8.082000e+01\n",
       "18282.0    1.780500e+02\n",
       "18283.0    2.045530e+03\n",
       "18287.0    1.837280e+03\n",
       "U          1.754902e+06\n",
       "Name: amount, Length: 4339, dtype: float64"
      ]
     },
     "execution_count": 93,
     "metadata": {},
     "output_type": "execute_result"
    }
   ],
   "source": [
    "value_M = df3.groupby('CustomerID')['amount'].sum()\n",
    "value_M"
   ]
  },
  {
   "cell_type": "markdown",
   "id": "5c309d27",
   "metadata": {},
   "source": [
    "## 8.2.2 观察R,F,M的数据分布"
   ]
  },
  {
   "cell_type": "code",
   "execution_count": 94,
   "id": "1a2dd34e",
   "metadata": {},
   "outputs": [
    {
     "data": {
      "text/plain": [
       "count    4339.000000\n",
       "mean       92.038258\n",
       "std       100.010502\n",
       "min         0.000000\n",
       "25%        17.000000\n",
       "50%        50.000000\n",
       "75%       141.500000\n",
       "max       373.000000\n",
       "Name: Date, dtype: float64"
      ]
     },
     "execution_count": 94,
     "metadata": {},
     "output_type": "execute_result"
    }
   ],
   "source": [
    "value_R.describe()"
   ]
  },
  {
   "cell_type": "code",
   "execution_count": 95,
   "id": "6e89c6f3",
   "metadata": {},
   "outputs": [
    {
     "data": {
      "image/png": "[encoded data removed]",
      "text/plain": [
       "<Figure size 432x288 with 1 Axes>"
      ]
     },
     "metadata": {},
     "output_type": "display_data"
    }
   ],
   "source": [
    "plt.hist(value_R, bins=30)\n",
    "plt.show()"
   ]
  },
  {
   "cell_type": "code",
   "execution_count": 96,
   "id": "0c20f06b",
   "metadata": {},
   "outputs": [
    {
     "data": {
      "text/plain": [
       "count    4.339000e+03\n",
       "mean     2.452537e+03\n",
       "std      2.808589e+04\n",
       "min      3.750000e+00\n",
       "25%      3.065050e+02\n",
       "50%      6.685800e+02\n",
       "75%      1.660890e+03\n",
       "max      1.754902e+06\n",
       "Name: amount, dtype: float64"
      ]
     },
     "execution_count": 96,
     "metadata": {},
     "output_type": "execute_result"
    }
   ],
   "source": [
    "value_M.describe()"
   ]
  },
  {
   "cell_type": "code",
   "execution_count": 97,
   "id": "adbeca79",
   "metadata": {},
   "outputs": [
    {
     "data": {
      "image/png": "[encoded data removed]",
      "text/plain": [
       "<Figure size 432x288 with 1 Axes>"
      ]
     },
     "metadata": {},
     "output_type": "display_data"
    }
   ],
   "source": [
    "# 异常值严重影响了数据的分布\n",
    "plt.hist(value_M, bins=30)\n",
    "plt.show()"
   ]
  },
  {
   "cell_type": "code",
   "execution_count": 98,
   "id": "bbc762e8",
   "metadata": {},
   "outputs": [
    {
     "data": {
      "image/png": "[encoded data removed]",
      "text/plain": [
       "<Figure size 432x288 with 1 Axes>"
      ]
     },
     "metadata": {},
     "output_type": "display_data"
    }
   ],
   "source": [
    "# 绘制金额小于2000的\n",
    "plt.hist(value_M[value_M < 2000], bins=30)\n",
    "plt.show()"
   ]
  },
  {
   "cell_type": "code",
   "execution_count": 99,
   "id": "9e749f23",
   "metadata": {},
   "outputs": [
    {
     "data": {
      "text/plain": [
       "count    4339.000000\n",
       "mean        4.600138\n",
       "std        22.943499\n",
       "min         1.000000\n",
       "25%         1.000000\n",
       "50%         2.000000\n",
       "75%         5.000000\n",
       "max      1428.000000\n",
       "Name: InvoiceNo, dtype: float64"
      ]
     },
     "execution_count": 99,
     "metadata": {},
     "output_type": "execute_result"
    }
   ],
   "source": [
    "# 中位数是2，而最大值是1428，异常值很严重\n",
    "value_F.describe()"
   ]
  },
  {
   "cell_type": "code",
   "execution_count": 100,
   "id": "28d9f17c",
   "metadata": {},
   "outputs": [
    {
     "data": {
      "image/png": "[encoded data removed]",
      "text/plain": [
       "<Figure size 432x288 with 1 Axes>"
      ]
     },
     "metadata": {},
     "output_type": "display_data"
    }
   ],
   "source": [
    "plt.hist(value_F[value_F < 20], bins=30)\n",
    "plt.show()"
   ]
  },
  {
   "cell_type": "markdown",
   "id": "f7817f6e",
   "metadata": {},
   "source": [
    "## 8.2.3 对R,F,M分段（给予权重）"
   ]
  },
  {
   "cell_type": "code",
   "execution_count": 101,
   "id": "e954eaec",
   "metadata": {},
   "outputs": [
    {
     "name": "stdout",
     "output_type": "stream",
     "text": [
      " value_R:\t [0.0, 5.0, 12.0, 22.0, 32.0, 50.0, 71.0, 108.0, 179.0, 262.2000000000003, 373.0]\n",
      " value_F:\t [1.0, 1.0, 1.0, 1.0, 2.0, 2.0, 3.0, 4.0, 6.0, 9.0, 1428.0]\n",
      " value_M:\t [4, 155, 250, 350, 488, 669, 934, 1348, 2056, 3641, 1754902]\n"
     ]
    }
   ],
   "source": [
    "# 可根据分位数来分段\n",
    "print(' value_R:\\t', value_R.quantile([0,0.1,0.2,0.3,0.4,0.5,0.6,0.7,0.8,0.9,1]).tolist())\n",
    "print(' value_F:\\t', value_F.quantile([0,0.1,0.2,0.3,0.4,0.5,0.6,0.7,0.8,0.9,1]).tolist())\n",
    "print(' value_M:\\t', [round(i) for i in value_M.quantile([0,0.1,0.2,0.3,0.4,0.5,0.6,0.7,0.8,0.9,1]).tolist()])"
   ]
  },
  {
   "cell_type": "code",
   "execution_count": 102,
   "id": "86bb51c5",
   "metadata": {},
   "outputs": [],
   "source": [
    "# 构建分段指标\n",
    "bins_R = [0, 30, 90, 180, 360, 720]\n",
    "bins_F = [1, 2, 5, 10, 20, 5000]\n",
    "bins_M = [0, 500, 2000, 5000, 10000, 200000]"
   ]
  },
  {
   "cell_type": "code",
   "execution_count": 104,
   "id": "fa82d75d",
   "metadata": {},
   "outputs": [],
   "source": [
    "# 分段，label可以理解为权重，对R而言，值越小表示里目标时间近，所占权重也就更大，F,M同理\n",
    "score_R = pd.cut(value_R, bins_R, labels=[5,4,3,2,1], right=False)\n",
    "score_F = pd.cut(value_F, bins_F, labels=[1,2,3,4,5], right=False)\n",
    "score_M = pd.cut(value_M, bins_M, labels=[1,2,3,4,5], right=False)"
   ]
  },
  {
   "cell_type": "code",
   "execution_count": 105,
   "id": "01089fc8",
   "metadata": {},
   "outputs": [
    {
     "data": {
      "text/plain": [
       "CustomerID\n",
       "12346.0    2\n",
       "12347.0    5\n",
       "12348.0    4\n",
       "12349.0    5\n",
       "12350.0    2\n",
       "          ..\n",
       "18281.0    2\n",
       "18282.0    5\n",
       "18283.0    5\n",
       "18287.0    4\n",
       "U          5\n",
       "Name: Date, Length: 4339, dtype: category\n",
       "Categories (5, int64): [5 < 4 < 3 < 2 < 1]"
      ]
     },
     "execution_count": 105,
     "metadata": {},
     "output_type": "execute_result"
    }
   ],
   "source": [
    "score_R"
   ]
  },
  {
   "cell_type": "code",
   "execution_count": 106,
   "id": "b58268c1",
   "metadata": {},
   "outputs": [],
   "source": [
    "# 横向合并，axis=1；纵向合并，axis=0(默认)\n",
    "rfm = pd.concat([score_R, score_F, score_M], axis=1)"
   ]
  },
  {
   "cell_type": "code",
   "execution_count": 107,
   "id": "fafacdc1",
   "metadata": {},
   "outputs": [],
   "source": [
    "rfm.rename(columns={'Date':'R_value', 'InvoiceNo':'F_value', 'amount':'M_value'}, inplace=True)"
   ]
  },
  {
   "cell_type": "code",
   "execution_count": 108,
   "id": "e08fc0ea",
   "metadata": {},
   "outputs": [
    {
     "data": {
      "text/html": [
       "<div>\n",
       "<style scoped>\n",
       "    .dataframe tbody tr th:only-of-type {\n",
       "        vertical-align: middle;\n",
       "    }\n",
       "\n",
       "    .dataframe tbody tr th {\n",
       "        vertical-align: top;\n",
       "    }\n",
       "\n",
       "    .dataframe thead th {\n",
       "        text-align: right;\n",
       "    }\n",
       "</style>\n",
       "<table border=\"1\" class=\"dataframe\">\n",
       "  <thead>\n",
       "    <tr style=\"text-align: right;\">\n",
       "      <th></th>\n",
       "      <th>R_value</th>\n",
       "      <th>F_value</th>\n",
       "      <th>M_value</th>\n",
       "    </tr>\n",
       "    <tr>\n",
       "      <th>CustomerID</th>\n",
       "      <th></th>\n",
       "      <th></th>\n",
       "      <th></th>\n",
       "    </tr>\n",
       "  </thead>\n",
       "  <tbody>\n",
       "    <tr>\n",
       "      <th>12346.0</th>\n",
       "      <td>2</td>\n",
       "      <td>1</td>\n",
       "      <td>5</td>\n",
       "    </tr>\n",
       "    <tr>\n",
       "      <th>12347.0</th>\n",
       "      <td>5</td>\n",
       "      <td>3</td>\n",
       "      <td>3</td>\n",
       "    </tr>\n",
       "    <tr>\n",
       "      <th>12348.0</th>\n",
       "      <td>4</td>\n",
       "      <td>2</td>\n",
       "      <td>2</td>\n",
       "    </tr>\n",
       "    <tr>\n",
       "      <th>12349.0</th>\n",
       "      <td>5</td>\n",
       "      <td>1</td>\n",
       "      <td>2</td>\n",
       "    </tr>\n",
       "    <tr>\n",
       "      <th>12350.0</th>\n",
       "      <td>2</td>\n",
       "      <td>1</td>\n",
       "      <td>1</td>\n",
       "    </tr>\n",
       "    <tr>\n",
       "      <th>...</th>\n",
       "      <td>...</td>\n",
       "      <td>...</td>\n",
       "      <td>...</td>\n",
       "    </tr>\n",
       "    <tr>\n",
       "      <th>18281.0</th>\n",
       "      <td>2</td>\n",
       "      <td>1</td>\n",
       "      <td>1</td>\n",
       "    </tr>\n",
       "    <tr>\n",
       "      <th>18282.0</th>\n",
       "      <td>5</td>\n",
       "      <td>2</td>\n",
       "      <td>1</td>\n",
       "    </tr>\n",
       "    <tr>\n",
       "      <th>18283.0</th>\n",
       "      <td>5</td>\n",
       "      <td>4</td>\n",
       "      <td>3</td>\n",
       "    </tr>\n",
       "    <tr>\n",
       "      <th>18287.0</th>\n",
       "      <td>4</td>\n",
       "      <td>2</td>\n",
       "      <td>2</td>\n",
       "    </tr>\n",
       "    <tr>\n",
       "      <th>U</th>\n",
       "      <td>5</td>\n",
       "      <td>5</td>\n",
       "      <td>NaN</td>\n",
       "    </tr>\n",
       "  </tbody>\n",
       "</table>\n",
       "<p>4339 rows × 3 columns</p>\n",
       "</div>"
      ],
      "text/plain": [
       "           R_value F_value M_value\n",
       "CustomerID                        \n",
       "12346.0          2       1       5\n",
       "12347.0          5       3       3\n",
       "12348.0          4       2       2\n",
       "12349.0          5       1       2\n",
       "12350.0          2       1       1\n",
       "...            ...     ...     ...\n",
       "18281.0          2       1       1\n",
       "18282.0          5       2       1\n",
       "18283.0          5       4       3\n",
       "18287.0          4       2       2\n",
       "U                5       5     NaN\n",
       "\n",
       "[4339 rows x 3 columns]"
      ]
     },
     "execution_count": 108,
     "metadata": {},
     "output_type": "execute_result"
    }
   ],
   "source": [
    "# （U,M_value)为NaN原因是在对M分段指标构建时，最大值到20万，而U累计超过175万\n",
    "rfm"
   ]
  },
  {
   "cell_type": "code",
   "execution_count": 109,
   "id": "d615066c",
   "metadata": {},
   "outputs": [
    {
     "name": "stdout",
     "output_type": "stream",
     "text": [
      "<class 'pandas.core.frame.DataFrame'>\n",
      "Index: 4339 entries, 12346.0 to U\n",
      "Data columns (total 3 columns):\n",
      " #   Column   Non-Null Count  Dtype   \n",
      "---  ------   --------------  -----   \n",
      " 0   R_value  4339 non-null   category\n",
      " 1   F_value  4339 non-null   category\n",
      " 2   M_value  4336 non-null   category\n",
      "dtypes: category(3)\n",
      "memory usage: 176.3+ KB\n"
     ]
    }
   ],
   "source": [
    "rfm.info()"
   ]
  },
  {
   "cell_type": "code",
   "execution_count": 110,
   "id": "680a4b0c",
   "metadata": {},
   "outputs": [],
   "source": [
    "# 转换类型用于计算\n",
    "for i in ['R_value', 'F_value', 'M_value']:\n",
    "    rfm[i] = rfm[i].astype(float)"
   ]
  },
  {
   "cell_type": "code",
   "execution_count": 111,
   "id": "fc564295",
   "metadata": {},
   "outputs": [
    {
     "data": {
      "text/html": [
       "<div>\n",
       "<style scoped>\n",
       "    .dataframe tbody tr th:only-of-type {\n",
       "        vertical-align: middle;\n",
       "    }\n",
       "\n",
       "    .dataframe tbody tr th {\n",
       "        vertical-align: top;\n",
       "    }\n",
       "\n",
       "    .dataframe thead th {\n",
       "        text-align: right;\n",
       "    }\n",
       "</style>\n",
       "<table border=\"1\" class=\"dataframe\">\n",
       "  <thead>\n",
       "    <tr style=\"text-align: right;\">\n",
       "      <th></th>\n",
       "      <th>R_value</th>\n",
       "      <th>F_value</th>\n",
       "      <th>M_value</th>\n",
       "    </tr>\n",
       "  </thead>\n",
       "  <tbody>\n",
       "    <tr>\n",
       "      <th>count</th>\n",
       "      <td>4339.000000</td>\n",
       "      <td>4339.000000</td>\n",
       "      <td>4336.000000</td>\n",
       "    </tr>\n",
       "    <tr>\n",
       "      <th>mean</th>\n",
       "      <td>3.821618</td>\n",
       "      <td>2.028117</td>\n",
       "      <td>1.885609</td>\n",
       "    </tr>\n",
       "    <tr>\n",
       "      <th>std</th>\n",
       "      <td>1.174880</td>\n",
       "      <td>0.997989</td>\n",
       "      <td>0.951810</td>\n",
       "    </tr>\n",
       "    <tr>\n",
       "      <th>min</th>\n",
       "      <td>1.000000</td>\n",
       "      <td>1.000000</td>\n",
       "      <td>1.000000</td>\n",
       "    </tr>\n",
       "    <tr>\n",
       "      <th>25%</th>\n",
       "      <td>3.000000</td>\n",
       "      <td>1.000000</td>\n",
       "      <td>1.000000</td>\n",
       "    </tr>\n",
       "    <tr>\n",
       "      <th>50%</th>\n",
       "      <td>4.000000</td>\n",
       "      <td>2.000000</td>\n",
       "      <td>2.000000</td>\n",
       "    </tr>\n",
       "    <tr>\n",
       "      <th>75%</th>\n",
       "      <td>5.000000</td>\n",
       "      <td>3.000000</td>\n",
       "      <td>2.000000</td>\n",
       "    </tr>\n",
       "    <tr>\n",
       "      <th>max</th>\n",
       "      <td>5.000000</td>\n",
       "      <td>5.000000</td>\n",
       "      <td>5.000000</td>\n",
       "    </tr>\n",
       "  </tbody>\n",
       "</table>\n",
       "</div>"
      ],
      "text/plain": [
       "           R_value      F_value      M_value\n",
       "count  4339.000000  4339.000000  4336.000000\n",
       "mean      3.821618     2.028117     1.885609\n",
       "std       1.174880     0.997989     0.951810\n",
       "min       1.000000     1.000000     1.000000\n",
       "25%       3.000000     1.000000     1.000000\n",
       "50%       4.000000     2.000000     2.000000\n",
       "75%       5.000000     3.000000     2.000000\n",
       "max       5.000000     5.000000     5.000000"
      ]
     },
     "execution_count": 111,
     "metadata": {},
     "output_type": "execute_result"
    }
   ],
   "source": [
    "rfm.describe()"
   ]
  },
  {
   "cell_type": "markdown",
   "id": "e7733809",
   "metadata": {},
   "source": [
    "## 8.2.4 分级标准"
   ]
  },
  {
   "cell_type": "code",
   "execution_count": 113,
   "id": "461acf47",
   "metadata": {},
   "outputs": [],
   "source": [
    "# 根据平均值构建分级\n",
    "rfm['R'] = np.where(rfm['R_value'] > 3.82, '高', '低')\n",
    "rfm['F'] = np.where(rfm['F_value'] > 2.03, '高', '低')\n",
    "rfm['M'] = np.where(rfm['M_value'] > 1.89, '高', '低')"
   ]
  },
  {
   "cell_type": "code",
   "execution_count": 114,
   "id": "1523da65",
   "metadata": {},
   "outputs": [
    {
     "data": {
      "text/html": [
       "<div>\n",
       "<style scoped>\n",
       "    .dataframe tbody tr th:only-of-type {\n",
       "        vertical-align: middle;\n",
       "    }\n",
       "\n",
       "    .dataframe tbody tr th {\n",
       "        vertical-align: top;\n",
       "    }\n",
       "\n",
       "    .dataframe thead th {\n",
       "        text-align: right;\n",
       "    }\n",
       "</style>\n",
       "<table border=\"1\" class=\"dataframe\">\n",
       "  <thead>\n",
       "    <tr style=\"text-align: right;\">\n",
       "      <th></th>\n",
       "      <th>R_value</th>\n",
       "      <th>F_value</th>\n",
       "      <th>M_value</th>\n",
       "      <th>R</th>\n",
       "      <th>F</th>\n",
       "      <th>M</th>\n",
       "    </tr>\n",
       "    <tr>\n",
       "      <th>CustomerID</th>\n",
       "      <th></th>\n",
       "      <th></th>\n",
       "      <th></th>\n",
       "      <th></th>\n",
       "      <th></th>\n",
       "      <th></th>\n",
       "    </tr>\n",
       "  </thead>\n",
       "  <tbody>\n",
       "    <tr>\n",
       "      <th>12346.0</th>\n",
       "      <td>2.0</td>\n",
       "      <td>1.0</td>\n",
       "      <td>5.0</td>\n",
       "      <td>低</td>\n",
       "      <td>低</td>\n",
       "      <td>高</td>\n",
       "    </tr>\n",
       "    <tr>\n",
       "      <th>12347.0</th>\n",
       "      <td>5.0</td>\n",
       "      <td>3.0</td>\n",
       "      <td>3.0</td>\n",
       "      <td>高</td>\n",
       "      <td>高</td>\n",
       "      <td>高</td>\n",
       "    </tr>\n",
       "    <tr>\n",
       "      <th>12348.0</th>\n",
       "      <td>4.0</td>\n",
       "      <td>2.0</td>\n",
       "      <td>2.0</td>\n",
       "      <td>高</td>\n",
       "      <td>低</td>\n",
       "      <td>高</td>\n",
       "    </tr>\n",
       "    <tr>\n",
       "      <th>12349.0</th>\n",
       "      <td>5.0</td>\n",
       "      <td>1.0</td>\n",
       "      <td>2.0</td>\n",
       "      <td>高</td>\n",
       "      <td>低</td>\n",
       "      <td>高</td>\n",
       "    </tr>\n",
       "    <tr>\n",
       "      <th>12350.0</th>\n",
       "      <td>2.0</td>\n",
       "      <td>1.0</td>\n",
       "      <td>1.0</td>\n",
       "      <td>低</td>\n",
       "      <td>低</td>\n",
       "      <td>低</td>\n",
       "    </tr>\n",
       "    <tr>\n",
       "      <th>...</th>\n",
       "      <td>...</td>\n",
       "      <td>...</td>\n",
       "      <td>...</td>\n",
       "      <td>...</td>\n",
       "      <td>...</td>\n",
       "      <td>...</td>\n",
       "    </tr>\n",
       "    <tr>\n",
       "      <th>18281.0</th>\n",
       "      <td>2.0</td>\n",
       "      <td>1.0</td>\n",
       "      <td>1.0</td>\n",
       "      <td>低</td>\n",
       "      <td>低</td>\n",
       "      <td>低</td>\n",
       "    </tr>\n",
       "    <tr>\n",
       "      <th>18282.0</th>\n",
       "      <td>5.0</td>\n",
       "      <td>2.0</td>\n",
       "      <td>1.0</td>\n",
       "      <td>高</td>\n",
       "      <td>低</td>\n",
       "      <td>低</td>\n",
       "    </tr>\n",
       "    <tr>\n",
       "      <th>18283.0</th>\n",
       "      <td>5.0</td>\n",
       "      <td>4.0</td>\n",
       "      <td>3.0</td>\n",
       "      <td>高</td>\n",
       "      <td>高</td>\n",
       "      <td>高</td>\n",
       "    </tr>\n",
       "    <tr>\n",
       "      <th>18287.0</th>\n",
       "      <td>4.0</td>\n",
       "      <td>2.0</td>\n",
       "      <td>2.0</td>\n",
       "      <td>高</td>\n",
       "      <td>低</td>\n",
       "      <td>高</td>\n",
       "    </tr>\n",
       "    <tr>\n",
       "      <th>U</th>\n",
       "      <td>5.0</td>\n",
       "      <td>5.0</td>\n",
       "      <td>NaN</td>\n",
       "      <td>高</td>\n",
       "      <td>高</td>\n",
       "      <td>低</td>\n",
       "    </tr>\n",
       "  </tbody>\n",
       "</table>\n",
       "<p>4339 rows × 6 columns</p>\n",
       "</div>"
      ],
      "text/plain": [
       "            R_value  F_value  M_value  R  F  M\n",
       "CustomerID                                    \n",
       "12346.0         2.0      1.0      5.0  低  低  高\n",
       "12347.0         5.0      3.0      3.0  高  高  高\n",
       "12348.0         4.0      2.0      2.0  高  低  高\n",
       "12349.0         5.0      1.0      2.0  高  低  高\n",
       "12350.0         2.0      1.0      1.0  低  低  低\n",
       "...             ...      ...      ... .. .. ..\n",
       "18281.0         2.0      1.0      1.0  低  低  低\n",
       "18282.0         5.0      2.0      1.0  高  低  低\n",
       "18283.0         5.0      4.0      3.0  高  高  高\n",
       "18287.0         4.0      2.0      2.0  高  低  高\n",
       "U               5.0      5.0      NaN  高  高  低\n",
       "\n",
       "[4339 rows x 6 columns]"
      ]
     },
     "execution_count": 114,
     "metadata": {},
     "output_type": "execute_result"
    }
   ],
   "source": [
    "rfm"
   ]
  },
  {
   "cell_type": "code",
   "execution_count": 115,
   "id": "c1dfa65d",
   "metadata": {},
   "outputs": [],
   "source": [
    "# 汇总\n",
    "rfm['value'] = rfm['R'].str[:] + rfm['F'].str[:] + rfm['M'].str[:]"
   ]
  },
  {
   "cell_type": "code",
   "execution_count": 116,
   "id": "bea81909",
   "metadata": {},
   "outputs": [
    {
     "data": {
      "text/html": [
       "<div>\n",
       "<style scoped>\n",
       "    .dataframe tbody tr th:only-of-type {\n",
       "        vertical-align: middle;\n",
       "    }\n",
       "\n",
       "    .dataframe tbody tr th {\n",
       "        vertical-align: top;\n",
       "    }\n",
       "\n",
       "    .dataframe thead th {\n",
       "        text-align: right;\n",
       "    }\n",
       "</style>\n",
       "<table border=\"1\" class=\"dataframe\">\n",
       "  <thead>\n",
       "    <tr style=\"text-align: right;\">\n",
       "      <th></th>\n",
       "      <th>R_value</th>\n",
       "      <th>F_value</th>\n",
       "      <th>M_value</th>\n",
       "      <th>R</th>\n",
       "      <th>F</th>\n",
       "      <th>M</th>\n",
       "      <th>value</th>\n",
       "    </tr>\n",
       "    <tr>\n",
       "      <th>CustomerID</th>\n",
       "      <th></th>\n",
       "      <th></th>\n",
       "      <th></th>\n",
       "      <th></th>\n",
       "      <th></th>\n",
       "      <th></th>\n",
       "      <th></th>\n",
       "    </tr>\n",
       "  </thead>\n",
       "  <tbody>\n",
       "    <tr>\n",
       "      <th>12346.0</th>\n",
       "      <td>2.0</td>\n",
       "      <td>1.0</td>\n",
       "      <td>5.0</td>\n",
       "      <td>低</td>\n",
       "      <td>低</td>\n",
       "      <td>高</td>\n",
       "      <td>低低高</td>\n",
       "    </tr>\n",
       "    <tr>\n",
       "      <th>12347.0</th>\n",
       "      <td>5.0</td>\n",
       "      <td>3.0</td>\n",
       "      <td>3.0</td>\n",
       "      <td>高</td>\n",
       "      <td>高</td>\n",
       "      <td>高</td>\n",
       "      <td>高高高</td>\n",
       "    </tr>\n",
       "    <tr>\n",
       "      <th>12348.0</th>\n",
       "      <td>4.0</td>\n",
       "      <td>2.0</td>\n",
       "      <td>2.0</td>\n",
       "      <td>高</td>\n",
       "      <td>低</td>\n",
       "      <td>高</td>\n",
       "      <td>高低高</td>\n",
       "    </tr>\n",
       "    <tr>\n",
       "      <th>12349.0</th>\n",
       "      <td>5.0</td>\n",
       "      <td>1.0</td>\n",
       "      <td>2.0</td>\n",
       "      <td>高</td>\n",
       "      <td>低</td>\n",
       "      <td>高</td>\n",
       "      <td>高低高</td>\n",
       "    </tr>\n",
       "    <tr>\n",
       "      <th>12350.0</th>\n",
       "      <td>2.0</td>\n",
       "      <td>1.0</td>\n",
       "      <td>1.0</td>\n",
       "      <td>低</td>\n",
       "      <td>低</td>\n",
       "      <td>低</td>\n",
       "      <td>低低低</td>\n",
       "    </tr>\n",
       "    <tr>\n",
       "      <th>...</th>\n",
       "      <td>...</td>\n",
       "      <td>...</td>\n",
       "      <td>...</td>\n",
       "      <td>...</td>\n",
       "      <td>...</td>\n",
       "      <td>...</td>\n",
       "      <td>...</td>\n",
       "    </tr>\n",
       "    <tr>\n",
       "      <th>18281.0</th>\n",
       "      <td>2.0</td>\n",
       "      <td>1.0</td>\n",
       "      <td>1.0</td>\n",
       "      <td>低</td>\n",
       "      <td>低</td>\n",
       "      <td>低</td>\n",
       "      <td>低低低</td>\n",
       "    </tr>\n",
       "    <tr>\n",
       "      <th>18282.0</th>\n",
       "      <td>5.0</td>\n",
       "      <td>2.0</td>\n",
       "      <td>1.0</td>\n",
       "      <td>高</td>\n",
       "      <td>低</td>\n",
       "      <td>低</td>\n",
       "      <td>高低低</td>\n",
       "    </tr>\n",
       "    <tr>\n",
       "      <th>18283.0</th>\n",
       "      <td>5.0</td>\n",
       "      <td>4.0</td>\n",
       "      <td>3.0</td>\n",
       "      <td>高</td>\n",
       "      <td>高</td>\n",
       "      <td>高</td>\n",
       "      <td>高高高</td>\n",
       "    </tr>\n",
       "    <tr>\n",
       "      <th>18287.0</th>\n",
       "      <td>4.0</td>\n",
       "      <td>2.0</td>\n",
       "      <td>2.0</td>\n",
       "      <td>高</td>\n",
       "      <td>低</td>\n",
       "      <td>高</td>\n",
       "      <td>高低高</td>\n",
       "    </tr>\n",
       "    <tr>\n",
       "      <th>U</th>\n",
       "      <td>5.0</td>\n",
       "      <td>5.0</td>\n",
       "      <td>NaN</td>\n",
       "      <td>高</td>\n",
       "      <td>高</td>\n",
       "      <td>低</td>\n",
       "      <td>高高低</td>\n",
       "    </tr>\n",
       "  </tbody>\n",
       "</table>\n",
       "<p>4339 rows × 7 columns</p>\n",
       "</div>"
      ],
      "text/plain": [
       "            R_value  F_value  M_value  R  F  M value\n",
       "CustomerID                                          \n",
       "12346.0         2.0      1.0      5.0  低  低  高   低低高\n",
       "12347.0         5.0      3.0      3.0  高  高  高   高高高\n",
       "12348.0         4.0      2.0      2.0  高  低  高   高低高\n",
       "12349.0         5.0      1.0      2.0  高  低  高   高低高\n",
       "12350.0         2.0      1.0      1.0  低  低  低   低低低\n",
       "...             ...      ...      ... .. .. ..   ...\n",
       "18281.0         2.0      1.0      1.0  低  低  低   低低低\n",
       "18282.0         5.0      2.0      1.0  高  低  低   高低低\n",
       "18283.0         5.0      4.0      3.0  高  高  高   高高高\n",
       "18287.0         4.0      2.0      2.0  高  低  高   高低高\n",
       "U               5.0      5.0      NaN  高  高  低   高高低\n",
       "\n",
       "[4339 rows x 7 columns]"
      ]
     },
     "execution_count": 116,
     "metadata": {},
     "output_type": "execute_result"
    }
   ],
   "source": [
    "rfm"
   ]
  },
  {
   "cell_type": "markdown",
   "id": "5a9a6a40",
   "metadata": {},
   "source": [
    "## 8.2.5 确认分级"
   ]
  },
  {
   "cell_type": "code",
   "execution_count": 117,
   "id": "cf142cdd",
   "metadata": {},
   "outputs": [],
   "source": [
    "# 去除空格处理\n",
    "rfm['value'] = rfm['value'].str.strip()"
   ]
  },
  {
   "cell_type": "code",
   "execution_count": 118,
   "id": "97cb8a71",
   "metadata": {},
   "outputs": [],
   "source": [
    "# 构建用户分级函数\n",
    "def trans_value(x):\n",
    "    if x == '高高高': return '重要价值客户'\n",
    "    elif x == '高低高': return '重要发展客户'\n",
    "    elif x == '高高低': return '一般价值客户'\n",
    "    elif x == '低高高': return '重要保持客户'\n",
    "    elif x == '低低高': return '重要挽留客户'\n",
    "    elif x == '高低低': return '一般发展客户'\n",
    "    elif x == '低高低': return '一般保持客户'\n",
    "    else: return '一般挽留客户'"
   ]
  },
  {
   "cell_type": "code",
   "execution_count": 119,
   "id": "2e375a55",
   "metadata": {},
   "outputs": [],
   "source": [
    "rfm['用户等级'] = rfm['value'].apply(trans_value)"
   ]
  },
  {
   "cell_type": "code",
   "execution_count": 120,
   "id": "5b351b77",
   "metadata": {},
   "outputs": [
    {
     "data": {
      "text/html": [
       "<div>\n",
       "<style scoped>\n",
       "    .dataframe tbody tr th:only-of-type {\n",
       "        vertical-align: middle;\n",
       "    }\n",
       "\n",
       "    .dataframe tbody tr th {\n",
       "        vertical-align: top;\n",
       "    }\n",
       "\n",
       "    .dataframe thead th {\n",
       "        text-align: right;\n",
       "    }\n",
       "</style>\n",
       "<table border=\"1\" class=\"dataframe\">\n",
       "  <thead>\n",
       "    <tr style=\"text-align: right;\">\n",
       "      <th></th>\n",
       "      <th>R_value</th>\n",
       "      <th>F_value</th>\n",
       "      <th>M_value</th>\n",
       "      <th>R</th>\n",
       "      <th>F</th>\n",
       "      <th>M</th>\n",
       "      <th>value</th>\n",
       "      <th>用户等级</th>\n",
       "    </tr>\n",
       "    <tr>\n",
       "      <th>CustomerID</th>\n",
       "      <th></th>\n",
       "      <th></th>\n",
       "      <th></th>\n",
       "      <th></th>\n",
       "      <th></th>\n",
       "      <th></th>\n",
       "      <th></th>\n",
       "      <th></th>\n",
       "    </tr>\n",
       "  </thead>\n",
       "  <tbody>\n",
       "    <tr>\n",
       "      <th>12346.0</th>\n",
       "      <td>2.0</td>\n",
       "      <td>1.0</td>\n",
       "      <td>5.0</td>\n",
       "      <td>低</td>\n",
       "      <td>低</td>\n",
       "      <td>高</td>\n",
       "      <td>低低高</td>\n",
       "      <td>重要挽留客户</td>\n",
       "    </tr>\n",
       "    <tr>\n",
       "      <th>12347.0</th>\n",
       "      <td>5.0</td>\n",
       "      <td>3.0</td>\n",
       "      <td>3.0</td>\n",
       "      <td>高</td>\n",
       "      <td>高</td>\n",
       "      <td>高</td>\n",
       "      <td>高高高</td>\n",
       "      <td>重要价值客户</td>\n",
       "    </tr>\n",
       "    <tr>\n",
       "      <th>12348.0</th>\n",
       "      <td>4.0</td>\n",
       "      <td>2.0</td>\n",
       "      <td>2.0</td>\n",
       "      <td>高</td>\n",
       "      <td>低</td>\n",
       "      <td>高</td>\n",
       "      <td>高低高</td>\n",
       "      <td>重要发展客户</td>\n",
       "    </tr>\n",
       "    <tr>\n",
       "      <th>12349.0</th>\n",
       "      <td>5.0</td>\n",
       "      <td>1.0</td>\n",
       "      <td>2.0</td>\n",
       "      <td>高</td>\n",
       "      <td>低</td>\n",
       "      <td>高</td>\n",
       "      <td>高低高</td>\n",
       "      <td>重要发展客户</td>\n",
       "    </tr>\n",
       "    <tr>\n",
       "      <th>12350.0</th>\n",
       "      <td>2.0</td>\n",
       "      <td>1.0</td>\n",
       "      <td>1.0</td>\n",
       "      <td>低</td>\n",
       "      <td>低</td>\n",
       "      <td>低</td>\n",
       "      <td>低低低</td>\n",
       "      <td>一般挽留客户</td>\n",
       "    </tr>\n",
       "    <tr>\n",
       "      <th>...</th>\n",
       "      <td>...</td>\n",
       "      <td>...</td>\n",
       "      <td>...</td>\n",
       "      <td>...</td>\n",
       "      <td>...</td>\n",
       "      <td>...</td>\n",
       "      <td>...</td>\n",
       "      <td>...</td>\n",
       "    </tr>\n",
       "    <tr>\n",
       "      <th>18281.0</th>\n",
       "      <td>2.0</td>\n",
       "      <td>1.0</td>\n",
       "      <td>1.0</td>\n",
       "      <td>低</td>\n",
       "      <td>低</td>\n",
       "      <td>低</td>\n",
       "      <td>低低低</td>\n",
       "      <td>一般挽留客户</td>\n",
       "    </tr>\n",
       "    <tr>\n",
       "      <th>18282.0</th>\n",
       "      <td>5.0</td>\n",
       "      <td>2.0</td>\n",
       "      <td>1.0</td>\n",
       "      <td>高</td>\n",
       "      <td>低</td>\n",
       "      <td>低</td>\n",
       "      <td>高低低</td>\n",
       "      <td>一般发展客户</td>\n",
       "    </tr>\n",
       "    <tr>\n",
       "      <th>18283.0</th>\n",
       "      <td>5.0</td>\n",
       "      <td>4.0</td>\n",
       "      <td>3.0</td>\n",
       "      <td>高</td>\n",
       "      <td>高</td>\n",
       "      <td>高</td>\n",
       "      <td>高高高</td>\n",
       "      <td>重要价值客户</td>\n",
       "    </tr>\n",
       "    <tr>\n",
       "      <th>18287.0</th>\n",
       "      <td>4.0</td>\n",
       "      <td>2.0</td>\n",
       "      <td>2.0</td>\n",
       "      <td>高</td>\n",
       "      <td>低</td>\n",
       "      <td>高</td>\n",
       "      <td>高低高</td>\n",
       "      <td>重要发展客户</td>\n",
       "    </tr>\n",
       "    <tr>\n",
       "      <th>U</th>\n",
       "      <td>5.0</td>\n",
       "      <td>5.0</td>\n",
       "      <td>NaN</td>\n",
       "      <td>高</td>\n",
       "      <td>高</td>\n",
       "      <td>低</td>\n",
       "      <td>高高低</td>\n",
       "      <td>一般价值客户</td>\n",
       "    </tr>\n",
       "  </tbody>\n",
       "</table>\n",
       "<p>4339 rows × 8 columns</p>\n",
       "</div>"
      ],
      "text/plain": [
       "            R_value  F_value  M_value  R  F  M value    用户等级\n",
       "CustomerID                                                  \n",
       "12346.0         2.0      1.0      5.0  低  低  高   低低高  重要挽留客户\n",
       "12347.0         5.0      3.0      3.0  高  高  高   高高高  重要价值客户\n",
       "12348.0         4.0      2.0      2.0  高  低  高   高低高  重要发展客户\n",
       "12349.0         5.0      1.0      2.0  高  低  高   高低高  重要发展客户\n",
       "12350.0         2.0      1.0      1.0  低  低  低   低低低  一般挽留客户\n",
       "...             ...      ...      ... .. .. ..   ...     ...\n",
       "18281.0         2.0      1.0      1.0  低  低  低   低低低  一般挽留客户\n",
       "18282.0         5.0      2.0      1.0  高  低  低   高低低  一般发展客户\n",
       "18283.0         5.0      4.0      3.0  高  高  高   高高高  重要价值客户\n",
       "18287.0         4.0      2.0      2.0  高  低  高   高低高  重要发展客户\n",
       "U               5.0      5.0      NaN  高  高  低   高高低  一般价值客户\n",
       "\n",
       "[4339 rows x 8 columns]"
      ]
     },
     "execution_count": 120,
     "metadata": {},
     "output_type": "execute_result"
    }
   ],
   "source": [
    "rfm"
   ]
  },
  {
   "cell_type": "markdown",
   "id": "981a2938",
   "metadata": {},
   "source": [
    "## 8.2.6 用户分级结果及可视化"
   ]
  },
  {
   "cell_type": "code",
   "execution_count": 121,
   "id": "b9862148",
   "metadata": {},
   "outputs": [
    {
     "data": {
      "text/plain": [
       "重要价值客户    1034\n",
       "重要发展客户    1017\n",
       "一般挽留客户     923\n",
       "一般发展客户     829\n",
       "重要挽留客户     455\n",
       "重要保持客户      66\n",
       "一般价值客户      10\n",
       "一般保持客户       5\n",
       "Name: 用户等级, dtype: int64"
      ]
     },
     "execution_count": 121,
     "metadata": {},
     "output_type": "execute_result"
    }
   ],
   "source": [
    "re = rfm['用户等级'].value_counts()\n",
    "re"
   ]
  },
  {
   "cell_type": "code",
   "execution_count": 123,
   "id": "5a6a94db",
   "metadata": {},
   "outputs": [
    {
     "data": {
      "image/png": "[encoded data removed]",
      "text/plain": [
       "<Figure size 648x360 with 1 Axes>"
      ]
     },
     "metadata": {},
     "output_type": "display_data"
    }
   ],
   "source": [
    "plt.figure(figsize=(9,5))\n",
    "plt.bar(re.index.tolist(), re.values.tolist(), width=0.5)\n",
    "plt.grid(b=False)\n",
    "plt.xticks(rotation=45)\n",
    "plt.title('用户等级')\n",
    "plt.show()"
   ]
  },
  {
   "cell_type": "code",
   "execution_count": 127,
   "id": "32a9cb2e",
   "metadata": {},
   "outputs": [
    {
     "data": {
      "text/html": [
       "\n",
       "<script>\n",
       "    require.config({\n",
       "        paths: {\n",
       "            'echarts':'https://assets.pyecharts.org/assets/echarts.min'\n",
       "        }\n",
       "    });\n",
       "</script>\n",
       "\n",
       "        <div id=\"0695330d20fd4630a9190bfc83e3772e\" style=\"width:900px; height:500px;\"></div>\n",
       "\n",
       "<script>\n",
       "        require(['echarts'], function(echarts) {\n",
       "                var chart_0695330d20fd4630a9190bfc83e3772e = echarts.init(\n",
       "                    document.getElementById('0695330d20fd4630a9190bfc83e3772e'), 'white', {renderer: 'canvas'});\n",
       "                var option_0695330d20fd4630a9190bfc83e3772e = {\n",
       "    \"backgroundColor\": \"#E6E6FA\",\n",
       "    \"animation\": true,\n",
       "    \"animationThreshold\": 2000,\n",
       "    \"animationDuration\": 1000,\n",
       "    \"animationEasing\": \"cubicOut\",\n",
       "    \"animationDelay\": 0,\n",
       "    \"animationDurationUpdate\": 300,\n",
       "    \"animationEasingUpdate\": \"cubicOut\",\n",
       "    \"animationDelayUpdate\": 0,\n",
       "    \"color\": [\n",
       "        \"#c23531\",\n",
       "        \"#2f4554\",\n",
       "        \"#61a0a8\",\n",
       "        \"#d48265\",\n",
       "        \"#749f83\",\n",
       "        \"#ca8622\",\n",
       "        \"#bda29a\",\n",
       "        \"#6e7074\",\n",
       "        \"#546570\",\n",
       "        \"#c4ccd3\",\n",
       "        \"#f05b72\",\n",
       "        \"#ef5b9c\",\n",
       "        \"#f47920\",\n",
       "        \"#905a3d\",\n",
       "        \"#fab27b\",\n",
       "        \"#2a5caa\",\n",
       "        \"#444693\",\n",
       "        \"#726930\",\n",
       "        \"#b2d235\",\n",
       "        \"#6d8346\",\n",
       "        \"#ac6767\",\n",
       "        \"#1d953f\",\n",
       "        \"#6950a1\",\n",
       "        \"#918597\"\n",
       "    ],\n",
       "    \"series\": [\n",
       "        {\n",
       "            \"type\": \"pie\",\n",
       "            \"name\": \" \",\n",
       "            \"clockwise\": true,\n",
       "            \"data\": [\n",
       "                {\n",
       "                    \"name\": \"\\u91cd\\u8981\\u4ef7\\u503c\\u5ba2\\u6237\",\n",
       "                    \"value\": 1034\n",
       "                },\n",
       "                {\n",
       "                    \"name\": \"\\u91cd\\u8981\\u53d1\\u5c55\\u5ba2\\u6237\",\n",
       "                    \"value\": 1017\n",
       "                },\n",
       "                {\n",
       "                    \"name\": \"\\u4e00\\u822c\\u633d\\u7559\\u5ba2\\u6237\",\n",
       "                    \"value\": 923\n",
       "                },\n",
       "                {\n",
       "                    \"name\": \"\\u4e00\\u822c\\u53d1\\u5c55\\u5ba2\\u6237\",\n",
       "                    \"value\": 829\n",
       "                },\n",
       "                {\n",
       "                    \"name\": \"\\u91cd\\u8981\\u633d\\u7559\\u5ba2\\u6237\",\n",
       "                    \"value\": 455\n",
       "                },\n",
       "                {\n",
       "                    \"name\": \"\\u91cd\\u8981\\u4fdd\\u6301\\u5ba2\\u6237\",\n",
       "                    \"value\": 66\n",
       "                },\n",
       "                {\n",
       "                    \"name\": \"\\u4e00\\u822c\\u4ef7\\u503c\\u5ba2\\u6237\",\n",
       "                    \"value\": 10\n",
       "                },\n",
       "                {\n",
       "                    \"name\": \"\\u4e00\\u822c\\u4fdd\\u6301\\u5ba2\\u6237\",\n",
       "                    \"value\": 5\n",
       "                }\n",
       "            ],\n",
       "            \"radius\": \"55%\",\n",
       "            \"center\": [\n",
       "                \"50%\",\n",
       "                \"50%\"\n",
       "            ],\n",
       "            \"roseType\": \"radius\",\n",
       "            \"label\": {\n",
       "                \"show\": true,\n",
       "                \"position\": \"top\",\n",
       "                \"color\": \"rgba(25, 25, 112, 0.8)\",\n",
       "                \"margin\": 8\n",
       "            },\n",
       "            \"tooltip\": {\n",
       "                \"show\": true,\n",
       "                \"trigger\": \"item\",\n",
       "                \"triggerOn\": \"mousemove|click\",\n",
       "                \"axisPointer\": {\n",
       "                    \"type\": \"line\"\n",
       "                },\n",
       "                \"showContent\": true,\n",
       "                \"alwaysShowContent\": false,\n",
       "                \"showDelay\": 0,\n",
       "                \"hideDelay\": 100,\n",
       "                \"formatter\": \"{a} <br>{b}: {c} ({d}%)\",\n",
       "                \"textStyle\": {\n",
       "                    \"fontSize\": 14\n",
       "                },\n",
       "                \"borderWidth\": 0,\n",
       "                \"padding\": 5\n",
       "            },\n",
       "            \"rippleEffect\": {\n",
       "                \"show\": true,\n",
       "                \"brushType\": \"stroke\",\n",
       "                \"scale\": 2.5,\n",
       "                \"period\": 4\n",
       "            }\n",
       "        }\n",
       "    ],\n",
       "    \"legend\": [\n",
       "        {\n",
       "            \"data\": [\n",
       "                \"\\u91cd\\u8981\\u4ef7\\u503c\\u5ba2\\u6237\",\n",
       "                \"\\u91cd\\u8981\\u53d1\\u5c55\\u5ba2\\u6237\",\n",
       "                \"\\u4e00\\u822c\\u633d\\u7559\\u5ba2\\u6237\",\n",
       "                \"\\u4e00\\u822c\\u53d1\\u5c55\\u5ba2\\u6237\",\n",
       "                \"\\u91cd\\u8981\\u633d\\u7559\\u5ba2\\u6237\",\n",
       "                \"\\u91cd\\u8981\\u4fdd\\u6301\\u5ba2\\u6237\",\n",
       "                \"\\u4e00\\u822c\\u4ef7\\u503c\\u5ba2\\u6237\",\n",
       "                \"\\u4e00\\u822c\\u4fdd\\u6301\\u5ba2\\u6237\"\n",
       "            ],\n",
       "            \"selected\": {},\n",
       "            \"show\": false,\n",
       "            \"padding\": 5,\n",
       "            \"itemGap\": 10,\n",
       "            \"itemWidth\": 25,\n",
       "            \"itemHeight\": 14\n",
       "        }\n",
       "    ],\n",
       "    \"tooltip\": {\n",
       "        \"show\": true,\n",
       "        \"trigger\": \"item\",\n",
       "        \"triggerOn\": \"mousemove|click\",\n",
       "        \"axisPointer\": {\n",
       "            \"type\": \"line\"\n",
       "        },\n",
       "        \"showContent\": true,\n",
       "        \"alwaysShowContent\": false,\n",
       "        \"showDelay\": 0,\n",
       "        \"hideDelay\": 100,\n",
       "        \"textStyle\": {\n",
       "            \"fontSize\": 14\n",
       "        },\n",
       "        \"borderWidth\": 0,\n",
       "        \"padding\": 5\n",
       "    },\n",
       "    \"title\": [\n",
       "        {\n",
       "            \"text\": \"\\u7528\\u6237\\u7b49\\u7ea7\\u6bd4\\u4f8b\",\n",
       "            \"left\": \"center\",\n",
       "            \"top\": \"20\",\n",
       "            \"padding\": 5,\n",
       "            \"itemGap\": 10,\n",
       "            \"textStyle\": {\n",
       "                \"color\": \"#000\"\n",
       "            }\n",
       "        }\n",
       "    ]\n",
       "};\n",
       "                chart_0695330d20fd4630a9190bfc83e3772e.setOption(option_0695330d20fd4630a9190bfc83e3772e);\n",
       "        });\n",
       "    </script>\n"
      ],
      "text/plain": [
       "<pyecharts.render.display.HTML at 0x1680337beb0>"
      ]
     },
     "execution_count": 127,
     "metadata": {},
     "output_type": "execute_result"
    }
   ],
   "source": [
    "pie = (\n",
    "    Pie(init_opts=opts.InitOpts(width='900px', height='500px', bg_color='#E6E6FA'))   \n",
    "    .add(\n",
    "        ' ',\n",
    "        data_pair = [[x,y] for x, y in zip(re.index.tolist(), re.values.tolist())],\n",
    "        rosetype = 'radius',\n",
    "        radius = '55%',\n",
    "        center = ['50%', '50%'],\n",
    "        label_opts=opts.LabelOpts(is_show=False, position='center')\n",
    "    )\n",
    "    .set_global_opts(\n",
    "        title_opts=opts.TitleOpts(\n",
    "            title='用户等级比例',\n",
    "            pos_left='center',\n",
    "            pos_top='20',\n",
    "            title_textstyle_opts=opts.TextStyleOpts(color='#000'),\n",
    "        ),\n",
    "        legend_opts=opts.LegendOpts(is_show=False)\n",
    "    )\n",
    "    .set_series_opts(\n",
    "        tooltip_opts=opts.TooltipOpts(trigger='item', formatter='{a} <br>{b}: {c} ({d}%)'),\n",
    "        label_opts=opts.LabelOpts(color='rgba(25, 25, 112, 0.8)'),\n",
    "    )\n",
    ")\n",
    "pie.render_notebook()"
   ]
  },
  {
   "cell_type": "markdown",
   "id": "599cb874",
   "metadata": {},
   "source": [
    "# 9.结论与建议"
   ]
  },
  {
   "cell_type": "markdown",
   "id": "e60e1a01",
   "metadata": {},
   "source": [
    "## 一、结论\n",
    ">1月和12月退货率高于月平均退货率的原因：\n",
    "\n",
    ">1.根据第一篇实战数据分析知道影响总销量最大的是英国，同时其他也大都是西方国家，1月1日是他们的新年\n",
    "\n",
    ">2.以及12月25日是圣诞节，购物量大幅增加的同时也导致了退货量的增加。"
   ]
  },
  {
   "cell_type": "markdown",
   "id": "a3faf775",
   "metadata": {},
   "source": [
    "## 二、建议\n",
    ">1.实行积分制度，每次客户选择不同的航班，购买的商品都可以按商品的价格一定比例换算成积分，达到一定积分时可以减少扣除支付时的费用，或者兑换礼品\n",
    "\n",
    ">2.会员升级或者保级，在会员升级或保级评价的时间点前，对接近但尚未达到要求的较高消费客户进行提醒或促销活动，提高客户满意度。\n",
    "\n",
    ">3.获取新客成本远大于维持老客，应努力维系客户关系水平，保持优质客户。差异化管理、精准营销，提高客户忠诚度、满意度，延长客户高水平消费。"
   ]
  },
  {
   "cell_type": "code",
   "execution_count": null,
   "id": "21822214",
   "metadata": {},
   "outputs": [],
   "source": []
  }
 ],
 "metadata": {
  "kernelspec": {
   "display_name": "Python 3",
   "language": "python",
   "name": "python3"
  },
  "language_info": {
   "codemirror_mode": {
    "name": "ipython",
    "version": 3
   },
   "file_extension": ".py",
   "mimetype": "text/x-python",
   "name": "python",
   "nbconvert_exporter": "python",
   "pygments_lexer": "ipython3",
   "version": "3.9.1"
  }
 },
 "nbformat": 4,
 "nbformat_minor": 5
}